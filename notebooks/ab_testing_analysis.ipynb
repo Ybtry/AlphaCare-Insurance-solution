{
 "cells": [
  {
   "cell_type": "code",
   "execution_count": null,
   "id": "22e80c7b",
   "metadata": {},
   "outputs": [
    {
     "name": "stdout",
     "output_type": "stream",
     "text": [
      "Loading data for A/B Hypothesis Testing...\n",
      "Error: The file was not found at ../data/MachineLearningRating_v3.txt. Please check the path.\n",
      "Ensure 'MachineLearningRating_v3.txt' is in your 'data' folder.\n",
      "\n",
      "Data loading failed. Please resolve the error before proceeding with analysis.\n"
     ]
    }
   ],
   "source": [
    "import pandas as pd\n",
    "import numpy as np\n",
    "import matplotlib.pyplot as plt\n",
    "import seaborn as sns\n",
    "from scipy import stats\n",
    "\n",
    "print(\"Loading data for A/B Hypothesis Testing...\")\n",
    "\n",
    "file_path = '../data/MachineLearningRating_v3.txt'\n",
    "\n",
    "df = None\n",
    "\n",
    "try:\n",
    "    df = pd.read_csv(file_path, delimiter='|')\n",
    "    print(\"Data loaded successfully!\")\n",
    "    print(f\"Shape of data: {df.shape}\")\n",
    "\n",
    "    df.columns = df.columns.str.strip()\n",
    "    for col in df.select_dtypes(include='object').columns:\n",
    "        df[col] = df[col].astype(str).str.strip()\n",
    "    df['TransactionMonth'] = pd.to_datetime(df['TransactionMonth'])\n",
    "\n",
    "    df = df[(df['TotalPremium'] >= 0) & (df['TotalClaims'] >= 0)].copy()\n",
    "    print(\"Filtered out rows with negative TotalPremium or TotalClaims.\")\n",
    "\n",
    "    df['LossRatio'] = df['TotalClaims'] / df['TotalPremium']\n",
    "    df['LossRatio'].replace([np.inf, -np.inf], np.nan, inplace=True)\n",
    "    df.dropna(subset=['LossRatio'], inplace=True)\n",
    "    print(\"Calculated LossRatio and handled NaN/inf values.\")\n",
    "\n",
    "    print(\"\\nCleaned Data Info:\")\n",
    "    df.info()\n",
    "\n",
    "except FileNotFoundError:\n",
    "    print(f\"Error: The file was not found at {file_path}. Please check the path.\")\n",
    "    print(\"Ensure 'MachineLearningRating_v3.txt' is in your 'data' folder.\")\n",
    "except Exception as e:\n",
    "    print(f\"An unexpected error occurred while loading or preprocessing the data: {e}\")\n",
    "\n",
    "if df is None:\n",
    "    print(\"\\nData loading failed. Please resolve the error before proceeding with analysis.\")"
   ]
  }
 ],
 "metadata": {
  "kernelspec": {
   "display_name": ".venv",
   "language": "python",
   "name": "python3"
  },
  "language_info": {
   "codemirror_mode": {
    "name": "ipython",
    "version": 3
   },
   "file_extension": ".py",
   "mimetype": "text/x-python",
   "name": "python",
   "nbconvert_exporter": "python",
   "pygments_lexer": "ipython3",
   "version": "3.12.3"
  }
 },
 "nbformat": 4,
 "nbformat_minor": 5
}
